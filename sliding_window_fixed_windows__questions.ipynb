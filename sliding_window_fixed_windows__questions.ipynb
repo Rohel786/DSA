{
  "nbformat": 4,
  "nbformat_minor": 0,
  "metadata": {
    "colab": {
      "provenance": [],
      "authorship_tag": "ABX9TyOwvYX5X92Gw6AjGg8ab+AJ",
      "include_colab_link": true
    },
    "kernelspec": {
      "name": "python3",
      "display_name": "Python 3"
    },
    "language_info": {
      "name": "python"
    }
  },
  "cells": [
    {
      "cell_type": "markdown",
      "metadata": {
        "id": "view-in-github",
        "colab_type": "text"
      },
      "source": [
        "<a href=\"https://colab.research.google.com/github/Rohel786/DSA/blob/main/sliding_window_fixed_windows__questions.ipynb\" target=\"_parent\"><img src=\"https://colab.research.google.com/assets/colab-badge.svg\" alt=\"Open In Colab\"/></a>"
      ]
    },
    {
      "cell_type": "markdown",
      "source": [
        "**Fixed Sliding Window Problem**"
      ],
      "metadata": {
        "id": "Ge6S8bIQ6CHg"
      }
    },
    {
      "cell_type": "code",
      "execution_count": 1,
      "metadata": {
        "colab": {
          "base_uri": "https://localhost:8080/"
        },
        "id": "Y24R9VWM5dEZ",
        "outputId": "06d5cece-e88c-403b-b95f-83ae6ff244f8"
      },
      "outputs": [
        {
          "output_type": "stream",
          "name": "stdout",
          "text": [
            "[-1, -1, -7, 0, 0, 0]\n"
          ]
        }
      ],
      "source": [
        "'''Given an array arr[] of integers and a number k, print the first negative integer in every window (contiguous subarray) of size k.\n",
        "If a window does not contain a negative integer, print 0 for that window.'''\n",
        "\n",
        "arr = [12, -1, -7, 8, 15, 30, 16, 28]\n",
        "k = 3\n",
        "\n",
        "i = 0\n",
        "negative_array = []\n",
        "temp = []\n",
        "for j in range(len(arr)):\n",
        "    if arr[j] < 0 :\n",
        "        temp.append(arr[j])\n",
        "    if (j-i)+1 == k:\n",
        "        if len(temp):\n",
        "            negative_array.append(temp[0])\n",
        "            if arr[i] == temp[0]:\n",
        "                temp.pop(0)\n",
        "        else:\n",
        "            negative_array.append(0)\n",
        "        i +=1\n",
        "\n",
        "print(negative_array)"
      ]
    },
    {
      "cell_type": "code",
      "source": [
        "'''You are given an integer array arr, an integer k, and an integer threshold.\n",
        "\n",
        "Return the number of contiguous subarrays of size k whose average is greater than or equal to the threshold.'''\n",
        "\n",
        "arr = [2, 1, 3, 4, 1, 2, 1, 5, 3]\n",
        "k = 3\n",
        "threshold = 3\n",
        "\n",
        "\n",
        "final_avg = {}\n",
        "start = 0\n",
        "end = 0\n",
        "sum_arr = 0\n",
        "\n",
        "while (end < len(arr)):\n",
        "\n",
        "    sum_arr = sum_arr + arr[end]\n",
        "    if ((end-start)+1 == k):\n",
        "\n",
        "        avg = sum_arr/k\n",
        "        if avg >= threshold:\n",
        "            final_avg[avg] = [start, end]\n",
        "\n",
        "        sum_arr = sum_arr - arr[start]\n",
        "        start += 1\n",
        "\n",
        "    end += 1\n",
        "print(final_avg)"
      ],
      "metadata": {
        "colab": {
          "base_uri": "https://localhost:8080/"
        },
        "id": "NJpP-NWg5_gn",
        "outputId": "a78b1668-369b-4e8d-e19e-917b960e7953"
      },
      "execution_count": 3,
      "outputs": [
        {
          "output_type": "stream",
          "name": "stdout",
          "text": [
            "{3.0: [6, 8]}\n"
          ]
        }
      ]
    },
    {
      "cell_type": "code",
      "source": [
        "'''❓Problem:\n",
        "Maximum Sum Subarray of Size K\n",
        "\n",
        "Given an array of integers nums and an integer k, find the maximum sum of any contiguous subarray of size k.'''\n",
        "\n",
        "nums = [2, 1, 5, 1, 3, 2]\n",
        "k = 3\n",
        "\n",
        "max_sum = 0\n",
        "start = 0\n",
        "end = 0\n",
        "sum_arr = 0\n",
        "while (end < len(nums)):\n",
        "    sum_arr = sum_arr + nums[end]\n",
        "    if ((end-start+1) == k):\n",
        "        max_sum = max(max_sum, sum_arr)\n",
        "        sum_arr = sum_arr - nums[start]\n",
        "        start += 1\n",
        "    end +=1\n",
        "print(max_sum)"
      ],
      "metadata": {
        "colab": {
          "base_uri": "https://localhost:8080/"
        },
        "id": "Bko5LZSC-R_6",
        "outputId": "bb3d51ea-471f-4cd0-9000-8e39d40cb4e6"
      },
      "execution_count": 4,
      "outputs": [
        {
          "output_type": "stream",
          "name": "stdout",
          "text": [
            "9\n"
          ]
        }
      ]
    }
  ]
}